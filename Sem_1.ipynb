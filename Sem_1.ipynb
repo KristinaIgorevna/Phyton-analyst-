{
  "nbformat": 4,
  "nbformat_minor": 0,
  "metadata": {
    "colab": {
      "provenance": [],
      "authorship_tag": "ABX9TyMQVSLGt/Kzu1mwiKy7YH66",
      "include_colab_link": true
    },
    "kernelspec": {
      "name": "python3",
      "display_name": "Python 3"
    },
    "language_info": {
      "name": "python"
    }
  },
  "cells": [
    {
      "cell_type": "markdown",
      "metadata": {
        "id": "view-in-github",
        "colab_type": "text"
      },
      "source": [
        "<a href=\"https://colab.research.google.com/github/KristinaIgorevna/Phyton-analyst-/blob/main/Sem_1.ipynb\" target=\"_parent\"><img src=\"https://colab.research.google.com/assets/colab-badge.svg\" alt=\"Open In Colab\"/></a>"
      ]
    },
    {
      "cell_type": "code",
      "source": [
        "##Задача 1\n",
        "###На складе лежат разные фрукты в разном количестве.\n",
        "###Нужно написать функцию, которая на вход принимает любое количество названий фруктов и их количество, а возвращает общее количество фруктов на складе"
      ],
      "metadata": {
        "id": "ua-3yZEtZ5fL"
      },
      "execution_count": null,
      "outputs": []
    },
    {
      "cell_type": "code",
      "execution_count": 1,
      "metadata": {
        "id": "fRvb820TV6a-"
      },
      "outputs": [],
      "source": [
        "def fruit_basket(**kwargs):\n",
        "    {print(f\"Фрукт {name} в количестве {values} шт\")\n",
        "     for name, values in kwargs.items()}\n",
        "    return print(f'Общее количество фрутов: {sum(kwargs.values())}')"
      ]
    },
    {
      "cell_type": "code",
      "source": [
        "fruit_basket(\n",
        "    banana = 34,\n",
        "    mango = 10,\n",
        "    apple = 2\n",
        ")"
      ],
      "metadata": {
        "colab": {
          "base_uri": "https://localhost:8080/"
        },
        "id": "khyS7rXHUVAe",
        "outputId": "d73c52a1-d3f5-48ef-c982-022f958ca0e2"
      },
      "execution_count": 6,
      "outputs": [
        {
          "output_type": "stream",
          "name": "stdout",
          "text": [
            "Фрукт banana в количестве 34 шт\n",
            "Фрукт mango в количестве 10 шт\n",
            "Фрукт apple в количестве 2 шт\n",
            "Общее количество фрутов: 46\n"
          ]
        }
      ]
    },
    {
      "cell_type": "markdown",
      "source": [
        "### Задание 2\n",
        "### Дан список с затратами на рекламу. Но в данных есть ошибки, некоторые затраты имеют отрицательную величину. Удалите такие значения из списка и посчитайте суммарные затраты\n",
        "[100, 125, -90, 345, 655, -1, 0, 200]\n"
      ],
      "metadata": {
        "id": "_czjLTitbt7c"
      }
    },
    {
      "cell_type": "code",
      "source": [
        "costs = [100, 125, -90, 345, 655, -1, 0, 200]\n",
        "\n",
        "total_cost = sum([i for i in costs if i >= 0])\n",
        "total_cost"
      ],
      "metadata": {
        "colab": {
          "base_uri": "https://localhost:8080/"
        },
        "id": "V3LwEM0jbuZA",
        "outputId": "4ee22655-0176-435b-ef94-8d5571df1297"
      },
      "execution_count": 7,
      "outputs": [
        {
          "output_type": "execute_result",
          "data": {
            "text/plain": [
              "1425"
            ]
          },
          "metadata": {},
          "execution_count": 7
        }
      ]
    },
    {
      "cell_type": "markdown",
      "source": [
        "##Задача 3\n",
        "##Даны два списка, Дата покупки, Суммы покупок по датам\n",
        "###3.1 Найдите, какая выручка у компании в ноябре\n",
        "###3.2 Найдите выручку компании в зависимости от месяца\n",
        "### Для этого напишите функцию, которая на вход принимает список с датами и список с выручкой, а на выходе словарь, где ключи - это месяцы, а значения - это выручка.\n",
        "\n"
      ],
      "metadata": {
        "id": "Lmh7ptPacULB"
      }
    },
    {
      "cell_type": "code",
      "source": [
        "##3.1 Найдите, какая выручка у компании в ноябре\n",
        "dates = ['2021-09-14', '2021-12-15', '2021-09-08', '2021-12-05', '2021-10-09', '2021-09-30', '2021-12-22', '2021-11-29', '2021-12-24', '2021-11-26', '2021-10-27', '2021-12-18', '2021-11-09', '2021-11-23', '2021-09-27', '2021-10-02', '2021-12-27', '2021-09-20', '2021-12-13', '2021-11-01', '2021-11-09', '2021-12-06', '2021-12-08', '2021-10-09', '2021-10-31', '2021-09-30', '2021-11-09', '2021-12-13', '2021-10-26', '2021-12-09']\n",
        "pay_sum = [1270, 8413, 9028, 3703, 5739, 4095, 295, 4944, 5723, 3701, 4471, 651, 7037, 4274, 6275, 4988, 6930, 2971, 6592, 2004, 2822, 519, 3406, 2732, 5015, 2008, 316, 6333, 5700, 2887]"
      ],
      "metadata": {
        "id": "4e_bsmB7XW7d"
      },
      "execution_count": 18,
      "outputs": []
    },
    {
      "cell_type": "code",
      "source": [
        "\n",
        "month_november = sum([pay_sum[i] for i in range(len(dates)) if dates[i][5:7] == '11'])\n",
        "month_november"
      ],
      "metadata": {
        "colab": {
          "base_uri": "https://localhost:8080/"
        },
        "id": "vqd0RTpqdGQB",
        "outputId": "1632f1a3-49a6-4eb6-c886-cc9ba0309ccb"
      },
      "execution_count": 20,
      "outputs": [
        {
          "output_type": "execute_result",
          "data": {
            "text/plain": [
              "25098"
            ]
          },
          "metadata": {},
          "execution_count": 20
        }
      ]
    },
    {
      "cell_type": "code",
      "source": [
        "##3.2 Найдите выручку компании в зависимости от месяца\n",
        "def get_months_revenue(dates: list, revenues:list) -> dict:\n",
        "    months_set = set(map(lambda x: x[5:7], dates))\n",
        "    month_revenue_temp = {key:list() for key in months_set}\n",
        "    for i in month_revenue_temp.keys():\n",
        "        for j in range(len(dates)):\n",
        "            if dates[j][5:7] == i:\n",
        "                month_revenue_temp[i].append(revenues[j])\n",
        "    month_revenue_final = {key:sum(value) for key, value in month_revenue_temp.items()}\n",
        "    return month_revenue_final\n",
        "\n",
        "get_months_revenue(dates, pay_sum)"
      ],
      "metadata": {
        "colab": {
          "base_uri": "https://localhost:8080/"
        },
        "id": "N4QD34qBeOYB",
        "outputId": "28752a98-87ce-4e6a-e127-d142fdcfcb23"
      },
      "execution_count": 23,
      "outputs": [
        {
          "output_type": "execute_result",
          "data": {
            "text/plain": [
              "{'10': 28645, '12': 45452, '11': 25098, '09': 25647}"
            ]
          },
          "metadata": {},
          "execution_count": 23
        }
      ]
    }
  ]
}