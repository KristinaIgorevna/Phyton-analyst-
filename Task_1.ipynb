{
  "nbformat": 4,
  "nbformat_minor": 0,
  "metadata": {
    "colab": {
      "provenance": [],
      "authorship_tag": "ABX9TyOJUBVJkmEgdS2nj7noVhSA",
      "include_colab_link": true
    },
    "kernelspec": {
      "name": "python3",
      "display_name": "Python 3"
    },
    "language_info": {
      "name": "python"
    }
  },
  "cells": [
    {
      "cell_type": "markdown",
      "metadata": {
        "id": "view-in-github",
        "colab_type": "text"
      },
      "source": [
        "<a href=\"https://colab.research.google.com/github/KristinaIgorevna/Phyton-analyst-/blob/main/Task_1.ipynb\" target=\"_parent\"><img src=\"https://colab.research.google.com/assets/colab-badge.svg\" alt=\"Open In Colab\"/></a>"
      ]
    },
    {
      "cell_type": "markdown",
      "source": [
        "## Задача 1\n",
        "### На складе лежат разные фрукты в разном количестве.\n",
        "### Нужно написать функцию, которая на вход принимает любое количество названий фруктов и их количество, а возвращает общее количество фруктов на складе"
      ],
      "metadata": {
        "id": "yhy6KqGgXpTT"
      }
    },
    {
      "cell_type": "code",
      "execution_count": 1,
      "metadata": {
        "id": "fRvb820TV6a-"
      },
      "outputs": [],
      "source": [
        "def fruit_basket(**kwargs):\n",
        "    {print(f\"Фрукт {name} в количестве {values} шт\")\n",
        "     for name, values in kwargs.items()}\n",
        "    return print(f'Общее количество фрутов: {sum(kwargs.values())}')"
      ]
    },
    {
      "cell_type": "code",
      "source": [
        "fruit_basket(\n",
        "    banana = 34,\n",
        "    mango = 10,\n",
        "    apple = 2\n",
        ")"
      ],
      "metadata": {
        "colab": {
          "base_uri": "https://localhost:8080/"
        },
        "id": "khyS7rXHUVAe",
        "outputId": "d73c52a1-d3f5-48ef-c982-022f958ca0e2"
      },
      "execution_count": 6,
      "outputs": [
        {
          "output_type": "stream",
          "name": "stdout",
          "text": [
            "Фрукт banana в количестве 34 шт\n",
            "Фрукт mango в количестве 10 шт\n",
            "Фрукт apple в количестве 2 шт\n",
            "Общее количество фрутов: 46\n"
          ]
        }
      ]
    },
    {
      "cell_type": "code",
      "source": [],
      "metadata": {
        "id": "4e_bsmB7XW7d"
      },
      "execution_count": null,
      "outputs": []
    }
  ]
}